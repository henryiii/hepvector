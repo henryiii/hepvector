{
 "cells": [
  {
   "cell_type": "code",
   "execution_count": 6,
   "metadata": {},
   "outputs": [],
   "source": [
    "from uproot_methods import TVector2, TVector3, TLorentzVector"
   ]
  },
  {
   "cell_type": "markdown",
   "metadata": {},
   "source": [
    "Getting ROOT, Python3, and Jupyter happy together on macOS was hard enough. Just going to grab HEPvector from disk. Don't do this in your code, just use pip to install."
   ]
  },
  {
   "cell_type": "code",
   "execution_count": 2,
   "metadata": {},
   "outputs": [],
   "source": [
    "import sys\n",
    "sys.path.insert(0, '..')"
   ]
  },
  {
   "cell_type": "code",
   "execution_count": 4,
   "metadata": {},
   "outputs": [],
   "source": [
    "from hepvector import Vector, Vector2D, Vector3D, LorentzVector\n",
    "import numpy as np"
   ]
  },
  {
   "cell_type": "markdown",
   "metadata": {},
   "source": [
    "We need a way to compare a hepvector to an uproot vector:"
   ]
  },
  {
   "cell_type": "code",
   "execution_count": 36,
   "metadata": {},
   "outputs": [],
   "source": [
    "def compare(npvec, rvec):\n",
    "    rveclist = [rvec.x, rvec.y]\n",
    "    if hasattr(rvec, 'z'):\n",
    "        rveclist.append(rvec.z)\n",
    "    if hasattr(rvec, 't'):\n",
    "        rveclist.append(rvec.t)\n",
    "        \n",
    "    rvecarr = np.array(rveclist, np.double)\n",
    "    return np.allclose(npvec, rvecarr)"
   ]
  },
  {
   "cell_type": "markdown",
   "metadata": {},
   "source": [
    "# 2D vector comparison"
   ]
  },
  {
   "cell_type": "code",
   "execution_count": 15,
   "metadata": {},
   "outputs": [],
   "source": [
    "v = Vector2D(1,2)\n",
    "v2 = Vector2D(.3, .1)\n",
    "r = TVector2(1,2)\n",
    "r2 = TVector2(.3, .1)"
   ]
  },
  {
   "cell_type": "code",
   "execution_count": 16,
   "metadata": {},
   "outputs": [],
   "source": [
    "assert v.x == r.x\n",
    "assert v.y == r.y\n",
    "\n",
    "assert v[0] == r.x\n",
    "assert v[1] == r.y"
   ]
  },
  {
   "cell_type": "code",
   "execution_count": 17,
   "metadata": {},
   "outputs": [],
   "source": [
    "assert v.phi == r.phi\n",
    "assert v.rho == r.rho\n",
    "assert v.mag == r.mag\n",
    "assert v.mag2 == r.mag2"
   ]
  },
  {
   "cell_type": "code",
   "execution_count": 24,
   "metadata": {},
   "outputs": [],
   "source": [
    "assert compare(v.unit, r.unit)\n",
    "assert np.isclose(v.angle(v2), r.angle(r2))\n",
    "# r.Norm(r2)\n",
    "# r.Ort()\n",
    "# r.Proj(r2)\n",
    "# r.Rotate(phi)\n",
    "# v.pt()\n",
    "# v.pt2()"
   ]
  },
  {
   "cell_type": "markdown",
   "metadata": {},
   "source": [
    "# 3D vector comparison"
   ]
  },
  {
   "cell_type": "code",
   "execution_count": 25,
   "metadata": {},
   "outputs": [],
   "source": [
    "v = Vector3D(1,2,3)\n",
    "v1 = Vector3D(.4,-.1,.9)\n",
    "r = TVector3(1,2,3)\n",
    "r1 = TVector3(.4,-.1,.9)"
   ]
  },
  {
   "cell_type": "code",
   "execution_count": 26,
   "metadata": {},
   "outputs": [],
   "source": [
    "assert v.x == r.x\n",
    "assert v.y == r.y\n",
    "assert v.z == r.z"
   ]
  },
  {
   "cell_type": "code",
   "execution_count": 27,
   "metadata": {},
   "outputs": [
    {
     "data": {
      "text/plain": [
       "0.7453559924999299"
      ]
     },
     "execution_count": 27,
     "metadata": {},
     "output_type": "execute_result"
    }
   ],
   "source": [
    "r.cottheta"
   ]
  },
  {
   "cell_type": "code",
   "execution_count": 30,
   "metadata": {},
   "outputs": [
    {
     "data": {
      "text/plain": [
       "0.74535599249993"
      ]
     },
     "execution_count": 30,
     "metadata": {},
     "output_type": "execute_result"
    }
   ],
   "source": [
    "np.tan(v.theta)"
   ]
  },
  {
   "cell_type": "code",
   "execution_count": 33,
   "metadata": {},
   "outputs": [],
   "source": [
    "assert v.mag == r.mag       # get magnitude (=rho=Sqrt(x*x+y*y+z*z)))\n",
    "assert v.mag2 == r.mag2     # get magnitude squared\n",
    "assert v.theta == r.theta   # get polar angle\n",
    "#assert np.cos(v.theta) == r.CosTheta() # get cos of theta\n",
    "assert np.isclose(np.tan(v.theta), r.cottheta)\n",
    "assert v.phi == r.phi       # get azimuth angle\n",
    "#assert v.pt == r.Perp()       # get transverse component\n",
    "#assert v.pt2 == r.Perp2()     # get transverse component**2"
   ]
  },
  {
   "cell_type": "code",
   "execution_count": 12,
   "metadata": {},
   "outputs": [],
   "source": [
    "# v.Perp(v1);\n",
    "# v.Perp2(v1);"
   ]
  },
  {
   "cell_type": "code",
   "execution_count": 37,
   "metadata": {},
   "outputs": [],
   "source": [
    "# v.PseudoRapidity();\n",
    "# Patch for bug in uproot_methods:\n",
    "TVector3.TVector3 = TVector3\n",
    "\n",
    "assert compare(v.cross(v1), r.cross(r1))\n",
    "assert v.dot(v1) == r.dot(r1)\n",
    "assert compare(v + v1, r + r1)\n",
    "assert compare(v - v1, r - r1)\n",
    "\n",
    "# r.Rotate* are oddly only inplace\n",
    "# v.rotate_euler(phi=30)"
   ]
  },
  {
   "cell_type": "markdown",
   "metadata": {},
   "source": [
    "# Lorentz vector comparison"
   ]
  },
  {
   "cell_type": "code",
   "execution_count": 38,
   "metadata": {},
   "outputs": [],
   "source": [
    "v = LorentzVector(1,2,3,.2)\n",
    "v1 = LorentzVector(.4,.1,-.7,2)\n",
    "r = TLorentzVector(1,2,3,.2)\n",
    "r1 = TLorentzVector(.4,.1,-.7,2)"
   ]
  },
  {
   "cell_type": "code",
   "execution_count": 39,
   "metadata": {},
   "outputs": [],
   "source": [
    "assert v.x == r.x\n",
    "assert v.y == r.y\n",
    "assert v.z == r.z\n",
    "assert v.t == r.t\n",
    "assert v.e == r.t"
   ]
  },
  {
   "cell_type": "code",
   "execution_count": 47,
   "metadata": {},
   "outputs": [],
   "source": [
    "assert v.beta == r.beta\n",
    "assert np.isclose(v.dot(v1), r.dot(r1))\n",
    "assert compare(v + v1, r + r1)\n",
    "assert compare(v - v1, r - r1)\n",
    "#assert v.pt == r.Perp()\n",
    "#assert v.pt2 == r.Perp2()\n",
    "assert compare(v.boostp3, r.boostp3)\n",
    "assert v.delta_r(v1) ==  r.delta_r(r1)\n",
    "assert v.eta == r.eta\n",
    "assert v1.rapidity == r1.rapidity"
   ]
  },
  {
   "cell_type": "markdown",
   "metadata": {},
   "source": [
    "# Defined methods\n",
    "\n",
    "Let's look at all methods available (classmethods too):"
   ]
  },
  {
   "cell_type": "code",
   "execution_count": 48,
   "metadata": {},
   "outputs": [
    {
     "name": "stdout",
     "output_type": "stream",
     "text": [
      "Vector      | Vector2D | Vector3D                | LorentzVector    \n",
      "------------|----------|-------------------------|------------------\n",
      "angle       | Y        | from_cylindrical_coords | from_pt_eta_phi_m\n",
      "origin      | y        | cross                   | x                \n",
      "mag         | x        | in_basis                | pseudorapidity   \n",
      "from_vector | rho      | r                       | phi              \n",
      "dims        | pt2      | Z                       | t                \n",
      "unit        | X        | rotate_euler            | NAMES            \n",
      "mag2        | phi      | z                       | Y                \n",
      "to_pd       | NAMES    | angle                   | delta_r          \n",
      "from_pandas | pt       | theta                   | METRIC           \n",
      "            |          | from_pandas             | e                \n",
      "            |          | origin                  | from_pt_eta_phi  \n",
      "            |          | mag                     | pt2              \n",
      "            |          | from_vector             | X                \n",
      "            |          | from_spherical_coords   | beta             \n",
      "            |          | unit                    | rho              \n",
      "            |          | rotate_axis             | boost            \n",
      "            |          | dims                    | boostp3          \n",
      "            |          | mag2                    | gamma            \n",
      "            |          | to_pd                   | y                \n",
      "            |          |                         | p3               \n",
      "            |          |                         | eta              \n",
      "            |          |                         | p                \n",
      "            |          |                         | rapidity         \n",
      "            |          |                         | pt               \n"
     ]
    }
   ],
   "source": [
    "import inspect\n",
    "from itertools import zip_longest\n",
    "\n",
    "ignore = {x for x,y in inspect.getmembers(np.ndarray)}\n",
    "ignore |= {'__module__', '_repr_html_', '__slots__'}\n",
    "\n",
    "insp = lambda cls: {x for x,y in inspect.getmembers(cls)} - ignore\n",
    "\n",
    "v0 = insp(Vector)\n",
    "v2 = insp(Vector2D) - v0\n",
    "v3 = insp(Vector3D) - v2\n",
    "l4 = insp(LorentzVector) - v3\n",
    "\n",
    "mc = lambda x: max(max(map(len, x)), 8)\n",
    "\n",
    "a,b,c,d = 'Vector Vector2D Vector3D LorentzVector'.split()\n",
    "print(f'{a:{mc(v0)}} | {b:{mc(v2)}} | {c:{mc(v3)}} | {d:{mc(l4)}}')\n",
    "print(f'{\"\":-^{mc(v0)}}-|-{\"\":-^{mc(v2)}}-|-{\"\":-^{mc(v3)}}-|-{\"\":-^{mc(l4)}}')\n",
    "for a,b,c,d in zip_longest(v0, v2, v3, l4, fillvalue=''):\n",
    "    print(f'{a:{mc(v0)}} | {b:{mc(v2)}} | {c:{mc(v3)}} | {d:{mc(l4)}}')"
   ]
  },
  {
   "cell_type": "code",
   "execution_count": null,
   "metadata": {},
   "outputs": [],
   "source": []
  }
 ],
 "metadata": {
  "kernelspec": {
   "display_name": "Anaconda 3.7",
   "language": "python",
   "name": "python3"
  },
  "language_info": {
   "codemirror_mode": {
    "name": "ipython",
    "version": 3
   },
   "file_extension": ".py",
   "mimetype": "text/x-python",
   "name": "python",
   "nbconvert_exporter": "python",
   "pygments_lexer": "ipython3",
   "version": "3.7.0"
  }
 },
 "nbformat": 4,
 "nbformat_minor": 2
}
