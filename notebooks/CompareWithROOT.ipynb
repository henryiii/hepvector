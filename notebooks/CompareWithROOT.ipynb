{
 "cells": [
  {
   "cell_type": "code",
   "execution_count": 1,
   "metadata": {},
   "outputs": [
    {
     "name": "stdout",
     "output_type": "stream",
     "text": [
      "Welcome to JupyROOT 6.14/00\n"
     ]
    }
   ],
   "source": [
    "import ROOT"
   ]
  },
  {
   "cell_type": "markdown",
   "metadata": {},
   "source": [
    "Getting ROOT, Python3, and Jupyter happy together on macOS was hard enough. Just going to grab HEPvector from disk. Don't do this in your code, just use pip to install."
   ]
  },
  {
   "cell_type": "code",
   "execution_count": 2,
   "metadata": {},
   "outputs": [],
   "source": [
    "import sys\n",
    "sys.path.insert(0, '..')"
   ]
  },
  {
   "cell_type": "code",
   "execution_count": 3,
   "metadata": {},
   "outputs": [],
   "source": [
    "from hepvector import Vector, Vector2D, Vector3D, LorentzVector\n",
    "import numpy as np"
   ]
  },
  {
   "cell_type": "markdown",
   "metadata": {},
   "source": [
    "We need a way to compare a hepvector to a ROOT vector:"
   ]
  },
  {
   "cell_type": "code",
   "execution_count": 4,
   "metadata": {},
   "outputs": [],
   "source": [
    "def compare(npvec, rvec):\n",
    "    rveclist = [rvec.X(), rvec.Y()]\n",
    "    if hasattr(rvec, 'Z'):\n",
    "        rveclist.append(rvec.Z())\n",
    "    if hasattr(rvec, 'T'):\n",
    "        rveclist.append(rvec.T())\n",
    "        \n",
    "    rvecarr = np.array(rveclist, np.double)\n",
    "    return np.allclose(npvec, rvecarr)"
   ]
  },
  {
   "cell_type": "markdown",
   "metadata": {},
   "source": [
    "# 2D vector comparison"
   ]
  },
  {
   "cell_type": "code",
   "execution_count": 5,
   "metadata": {},
   "outputs": [],
   "source": [
    "v = Vector2D(1,2)\n",
    "v2 = Vector2D(.3, .1)\n",
    "r = ROOT.TVector2(1,2)\n",
    "r2 = ROOT.TVector2(.3, .1)"
   ]
  },
  {
   "cell_type": "code",
   "execution_count": 6,
   "metadata": {},
   "outputs": [],
   "source": [
    "assert v.x == r.X()\n",
    "assert v.y == r.Y()\n",
    "\n",
    "assert v[0] == r.X()\n",
    "assert v[1] == r.Y()"
   ]
  },
  {
   "cell_type": "code",
   "execution_count": 7,
   "metadata": {},
   "outputs": [],
   "source": [
    "assert v.phi() == r.Phi()\n",
    "assert v.rho() == r.Mod()\n",
    "assert v.mag() == r.Mod()\n",
    "assert v.mag2() == r.Mod2()"
   ]
  },
  {
   "cell_type": "code",
   "execution_count": 8,
   "metadata": {},
   "outputs": [],
   "source": [
    "assert compare(v.unit(), r.Unit())\n",
    "assert np.isclose(v.angle(v2), r.DeltaPhi(r2))\n",
    "# r.Norm(r2)\n",
    "# r.Ort()\n",
    "# r.Proj(r2)\n",
    "# r.Rotate(phi)\n",
    "# v.pt()\n",
    "# v.pt2()"
   ]
  },
  {
   "cell_type": "markdown",
   "metadata": {},
   "source": [
    "# 3D vector comparison"
   ]
  },
  {
   "cell_type": "code",
   "execution_count": 9,
   "metadata": {},
   "outputs": [],
   "source": [
    "v = Vector3D(1,2,3)\n",
    "v1 = Vector3D(.4,-.1,.9)\n",
    "r = ROOT.TVector3(1,2,3)\n",
    "r1 = ROOT.TVector3(.4,-.1,.9)"
   ]
  },
  {
   "cell_type": "code",
   "execution_count": 10,
   "metadata": {},
   "outputs": [],
   "source": [
    "assert v.x == r.X()\n",
    "assert v.y == r.Y()\n",
    "assert v.z == r.Z()"
   ]
  },
  {
   "cell_type": "code",
   "execution_count": 11,
   "metadata": {},
   "outputs": [],
   "source": [
    "assert v.mag() == r.Mag()       # get magnitude (=rho=Sqrt(x*x+y*y+z*z)))\n",
    "assert v.mag2() == r.Mag2()     # get magnitude squared\n",
    "assert v.theta() == r.Theta()   # get polar angle\n",
    "assert np.cos(v.theta()) == r.CosTheta() # get cos of theta\n",
    "assert v.phi() == r.Phi()       # get azimuth angle\n",
    "assert v.pt() == r.Perp()       # get transverse component\n",
    "assert v.pt2() == r.Perp2()     # get transverse component**2"
   ]
  },
  {
   "cell_type": "code",
   "execution_count": 12,
   "metadata": {},
   "outputs": [],
   "source": [
    "# v.Perp(v1);\n",
    "# v.Perp2(v1);"
   ]
  },
  {
   "cell_type": "code",
   "execution_count": 13,
   "metadata": {},
   "outputs": [],
   "source": [
    "# v.PseudoRapidity();\n",
    "assert compare(v.cross(v1), r.Cross(r1))\n",
    "assert v.dot(v1) == r.Dot(r1)\n",
    "assert compare(v + v1, r + r1)\n",
    "assert compare(v - v1, r - r1)\n",
    "\n",
    "# r.Rotate* are oddly only inplace\n",
    "# v.rotate_euler(phi=30)"
   ]
  },
  {
   "cell_type": "markdown",
   "metadata": {},
   "source": [
    "# Lorentz vector comparison"
   ]
  },
  {
   "cell_type": "code",
   "execution_count": 14,
   "metadata": {},
   "outputs": [],
   "source": [
    "v = LorentzVector(1,2,3,.2)\n",
    "v1 = LorentzVector(.4,.1,-.7,2)\n",
    "r = ROOT.TLorentzVector(1,2,3,.2)\n",
    "r1 = ROOT.TLorentzVector(.4,.1,-.7,2)"
   ]
  },
  {
   "cell_type": "code",
   "execution_count": 15,
   "metadata": {},
   "outputs": [],
   "source": [
    "assert v.x == r.X()\n",
    "assert v.y == r.Y()\n",
    "assert v.z == r.Z()\n",
    "assert v.t == r.T()\n",
    "assert v.e() == r.E()"
   ]
  },
  {
   "cell_type": "code",
   "execution_count": 16,
   "metadata": {},
   "outputs": [],
   "source": [
    "assert v.beta() == r.Beta()\n",
    "assert v.dot(v1) == r.Dot(r1)\n",
    "assert compare(v + v1, r + r1)\n",
    "assert compare(v - v1, r - r1)\n",
    "assert v.pt() == r.Perp()\n",
    "assert v.pt2() == r.Perp2()\n",
    "assert v.pseudorapidity() == r.PseudoRapidity()\n",
    "assert compare(v.boost_vector(), r.BoostVector())\n",
    "assert v.delta_r(v1) ==  r.DeltaR(r1)\n",
    "assert v.eta() == r.Eta()\n",
    "assert v1.rapidity() == r1.Rapidity()"
   ]
  },
  {
   "cell_type": "markdown",
   "metadata": {},
   "source": [
    "# Defined methods\n",
    "\n",
    "Let's look at all methods available (classmethods too):"
   ]
  },
  {
   "cell_type": "code",
   "execution_count": 17,
   "metadata": {},
   "outputs": [
    {
     "name": "stdout",
     "output_type": "stream",
     "text": [
      "Vector      | Vector2D | Vector3D                | LorentzVector    \n",
      "------------|----------|-------------------------|------------------\n",
      "from_vector | pt2      | from_vector             | METRIC           \n",
      "from_pandas | phi      | in_basis                | p                \n",
      "to_pd       | X        | angle                   | rho              \n",
      "mag2        | y        | theta                   | from_pt_eta_phi  \n",
      "unit        | x        | Z                       | delta_r          \n",
      "dims        | rho      | from_spherical_coords   | X                \n",
      "origin      | Y        | r                       | y                \n",
      "angle       | NAMES    | mag2                    | boost_vector     \n",
      "mag         | pt       | dims                    | boost            \n",
      "            |          | from_cylindrical_coords | Y                \n",
      "            |          | rotate_axis             | NAMES            \n",
      "            |          | origin                  | pt               \n",
      "            |          | from_pandas             | pt2              \n",
      "            |          | to_pd                   | rapidity         \n",
      "            |          | rotate_euler            | t                \n",
      "            |          | cross                   | from_pt_eta_phi_m\n",
      "            |          | unit                    | eta              \n",
      "            |          | z                       | beta             \n",
      "            |          | mag                     | pseudorapidity   \n",
      "            |          |                         | x                \n",
      "            |          |                         | phi              \n",
      "            |          |                         | p3               \n",
      "            |          |                         | gamma            \n",
      "            |          |                         | e                \n"
     ]
    }
   ],
   "source": [
    "import inspect\n",
    "from itertools import zip_longest\n",
    "\n",
    "ignore = {x for x,y in inspect.getmembers(np.ndarray)}\n",
    "ignore |= {'__module__', '_repr_html_', '__slots__'}\n",
    "\n",
    "insp = lambda cls: {x for x,y in inspect.getmembers(cls)} - ignore\n",
    "\n",
    "v0 = insp(Vector)\n",
    "v2 = insp(Vector2D) - v0\n",
    "v3 = insp(Vector3D) - v2\n",
    "l4 = insp(LorentzVector) - v3\n",
    "\n",
    "mc = lambda x: max(max(map(len, x)), 8)\n",
    "\n",
    "a,b,c,d = 'Vector Vector2D Vector3D LorentzVector'.split()\n",
    "print(f'{a:{mc(v0)}} | {b:{mc(v2)}} | {c:{mc(v3)}} | {d:{mc(l4)}}')\n",
    "print(f'{\"\":-^{mc(v0)}}-|-{\"\":-^{mc(v2)}}-|-{\"\":-^{mc(v3)}}-|-{\"\":-^{mc(l4)}}')\n",
    "for a,b,c,d in zip_longest(v0, v2, v3, l4, fillvalue=''):\n",
    "    print(f'{a:{mc(v0)}} | {b:{mc(v2)}} | {c:{mc(v3)}} | {d:{mc(l4)}}')"
   ]
  }
 ],
 "metadata": {
  "kernelspec": {
   "display_name": "Python 3",
   "language": "python",
   "name": "python3"
  },
  "language_info": {
   "codemirror_mode": {
    "name": "ipython",
    "version": 3
   },
   "file_extension": ".py",
   "mimetype": "text/x-python",
   "name": "python",
   "nbconvert_exporter": "python",
   "pygments_lexer": "ipython3",
   "version": "3.7.0"
  }
 },
 "nbformat": 4,
 "nbformat_minor": 2
}
